{
 "cells": [
  {
   "cell_type": "code",
   "execution_count": 26,
   "metadata": {},
   "outputs": [],
   "source": [
    "from datascience import Table"
   ]
  },
  {
   "cell_type": "code",
   "execution_count": 27,
   "metadata": {},
   "outputs": [
    {
     "output_type": "execute_result",
     "data": {
      "text/plain": "a    | b    | c\n1    | 11   | 21\n2    | 12   | 22\n3    | 13   | 23",
      "text/html": "<table border=\"1\" class=\"dataframe\">\n    <thead>\n        <tr>\n            <th>a</th> <th>b</th> <th>c</th>\n        </tr>\n    </thead>\n    <tbody>\n        <tr>\n            <td>1   </td> <td>11  </td> <td>21  </td>\n        </tr>\n        <tr>\n            <td>2   </td> <td>12  </td> <td>22  </td>\n        </tr>\n        <tr>\n            <td>3   </td> <td>13  </td> <td>23  </td>\n        </tr>\n    </tbody>\n</table>"
     },
     "metadata": {},
     "execution_count": 27
    }
   ],
   "source": [
    "tableA = Table().with_columns(\"a\", (1, 2, 3),\n",
    "    \"b\", (11 ,12, 13),\n",
    "    \"c\", (21, 22, 23))\n",
    "tableA"
   ]
  },
  {
   "cell_type": "code",
   "execution_count": 30,
   "metadata": {},
   "outputs": [
    {
     "output_type": "execute_result",
     "data": {
      "text/plain": "a    | d    | e\n1    | 31   | 41\n92   | 32   | 42\n3    | 33   | 43",
      "text/html": "<table border=\"1\" class=\"dataframe\">\n    <thead>\n        <tr>\n            <th>a</th> <th>d</th> <th>e</th>\n        </tr>\n    </thead>\n    <tbody>\n        <tr>\n            <td>1   </td> <td>31  </td> <td>41  </td>\n        </tr>\n        <tr>\n            <td>92  </td> <td>32  </td> <td>42  </td>\n        </tr>\n        <tr>\n            <td>3   </td> <td>33  </td> <td>43  </td>\n        </tr>\n    </tbody>\n</table>"
     },
     "metadata": {},
     "execution_count": 30
    }
   ],
   "source": [
    "tableB = Table().with_columns(\"a\", (1, 92, 3),\n",
    "    \"d\", (31 ,32, 33),\n",
    "    \"e\", (41, 42, 43))\n",
    "tableB"
   ]
  },
  {
   "cell_type": "code",
   "execution_count": 31,
   "metadata": {},
   "outputs": [
    {
     "output_type": "execute_result",
     "data": {
      "text/plain": "a    | b    | c    | d    | e\n1    | 11   | 21   | 31   | 41\n3    | 13   | 23   | 33   | 43",
      "text/html": "<table border=\"1\" class=\"dataframe\">\n    <thead>\n        <tr>\n            <th>a</th> <th>b</th> <th>c</th> <th>d</th> <th>e</th>\n        </tr>\n    </thead>\n    <tbody>\n        <tr>\n            <td>1   </td> <td>11  </td> <td>21  </td> <td>31  </td> <td>41  </td>\n        </tr>\n        <tr>\n            <td>3   </td> <td>13  </td> <td>23  </td> <td>33  </td> <td>43  </td>\n        </tr>\n    </tbody>\n</table>"
     },
     "metadata": {},
     "execution_count": 31
    }
   ],
   "source": [
    "tableC = tableA.join(\"a\", tableB)\n",
    "tableC"
   ]
  },
  {
   "cell_type": "code",
   "execution_count": null,
   "metadata": {},
   "outputs": [],
   "source": []
  }
 ],
 "metadata": {
  "language_info": {
   "codemirror_mode": {
    "name": "ipython",
    "version": 3
   },
   "file_extension": ".py",
   "mimetype": "text/x-python",
   "name": "python",
   "nbconvert_exporter": "python",
   "pygments_lexer": "ipython3",
   "version": "3.7.4-final"
  },
  "orig_nbformat": 2,
  "kernelspec": {
   "name": "a3c252d4-4f91-4361-ad80-11ff5d0979e2",
   "display_name": "'Python Interactive'"
  }
 },
 "nbformat": 4,
 "nbformat_minor": 2
}